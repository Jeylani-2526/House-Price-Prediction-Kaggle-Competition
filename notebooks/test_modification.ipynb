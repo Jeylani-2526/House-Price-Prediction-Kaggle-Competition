{
 "cells": [
  {
   "cell_type": "code",
   "execution_count": 1,
   "id": "f1e8fb92-19f4-4d6d-aa3b-f4ccc7d42779",
   "metadata": {},
   "outputs": [],
   "source": [
    "import numpy as np\n",
    "import pandas as pd\n",
    "import matplotlib.pyplot as plt\n",
    "import seaborn as sns"
   ]
  },
  {
   "cell_type": "code",
   "execution_count": 2,
   "id": "5adf8cd2-457c-45a6-9997-9a6256aee0e2",
   "metadata": {},
   "outputs": [
    {
     "name": "stdout",
     "output_type": "stream",
     "text": [
      "Test shape: (1459, 80)\n"
     ]
    }
   ],
   "source": [
    "test_df = pd.read_csv('../data/test (1).csv')\n",
    "print(f\"Test shape: {test_df.shape}\")\n"
   ]
  },
  {
   "cell_type": "code",
   "execution_count": 3,
   "id": "b6988eb4-c0b9-4998-8ce4-1001f7f7ebb4",
   "metadata": {},
   "outputs": [
    {
     "name": "stdout",
     "output_type": "stream",
     "text": [
      "<class 'pandas.core.frame.DataFrame'>\n",
      "RangeIndex: 1459 entries, 0 to 1458\n",
      "Data columns (total 80 columns):\n",
      " #   Column         Non-Null Count  Dtype  \n",
      "---  ------         --------------  -----  \n",
      " 0   Id             1459 non-null   int64  \n",
      " 1   MSSubClass     1459 non-null   int64  \n",
      " 2   MSZoning       1455 non-null   object \n",
      " 3   LotFrontage    1232 non-null   float64\n",
      " 4   LotArea        1459 non-null   int64  \n",
      " 5   Street         1459 non-null   object \n",
      " 6   Alley          107 non-null    object \n",
      " 7   LotShape       1459 non-null   object \n",
      " 8   LandContour    1459 non-null   object \n",
      " 9   Utilities      1457 non-null   object \n",
      " 10  LotConfig      1459 non-null   object \n",
      " 11  LandSlope      1459 non-null   object \n",
      " 12  Neighborhood   1459 non-null   object \n",
      " 13  Condition1     1459 non-null   object \n",
      " 14  Condition2     1459 non-null   object \n",
      " 15  BldgType       1459 non-null   object \n",
      " 16  HouseStyle     1459 non-null   object \n",
      " 17  OverallQual    1459 non-null   int64  \n",
      " 18  OverallCond    1459 non-null   int64  \n",
      " 19  YearBuilt      1459 non-null   int64  \n",
      " 20  YearRemodAdd   1459 non-null   int64  \n",
      " 21  RoofStyle      1459 non-null   object \n",
      " 22  RoofMatl       1459 non-null   object \n",
      " 23  Exterior1st    1458 non-null   object \n",
      " 24  Exterior2nd    1458 non-null   object \n",
      " 25  MasVnrType     565 non-null    object \n",
      " 26  MasVnrArea     1444 non-null   float64\n",
      " 27  ExterQual      1459 non-null   object \n",
      " 28  ExterCond      1459 non-null   object \n",
      " 29  Foundation     1459 non-null   object \n",
      " 30  BsmtQual       1415 non-null   object \n",
      " 31  BsmtCond       1414 non-null   object \n",
      " 32  BsmtExposure   1415 non-null   object \n",
      " 33  BsmtFinType1   1417 non-null   object \n",
      " 34  BsmtFinSF1     1458 non-null   float64\n",
      " 35  BsmtFinType2   1417 non-null   object \n",
      " 36  BsmtFinSF2     1458 non-null   float64\n",
      " 37  BsmtUnfSF      1458 non-null   float64\n",
      " 38  TotalBsmtSF    1458 non-null   float64\n",
      " 39  Heating        1459 non-null   object \n",
      " 40  HeatingQC      1459 non-null   object \n",
      " 41  CentralAir     1459 non-null   object \n",
      " 42  Electrical     1459 non-null   object \n",
      " 43  1stFlrSF       1459 non-null   int64  \n",
      " 44  2ndFlrSF       1459 non-null   int64  \n",
      " 45  LowQualFinSF   1459 non-null   int64  \n",
      " 46  GrLivArea      1459 non-null   int64  \n",
      " 47  BsmtFullBath   1457 non-null   float64\n",
      " 48  BsmtHalfBath   1457 non-null   float64\n",
      " 49  FullBath       1459 non-null   int64  \n",
      " 50  HalfBath       1459 non-null   int64  \n",
      " 51  BedroomAbvGr   1459 non-null   int64  \n",
      " 52  KitchenAbvGr   1459 non-null   int64  \n",
      " 53  KitchenQual    1458 non-null   object \n",
      " 54  TotRmsAbvGrd   1459 non-null   int64  \n",
      " 55  Functional     1457 non-null   object \n",
      " 56  Fireplaces     1459 non-null   int64  \n",
      " 57  FireplaceQu    729 non-null    object \n",
      " 58  GarageType     1383 non-null   object \n",
      " 59  GarageYrBlt    1381 non-null   float64\n",
      " 60  GarageFinish   1381 non-null   object \n",
      " 61  GarageCars     1458 non-null   float64\n",
      " 62  GarageArea     1458 non-null   float64\n",
      " 63  GarageQual     1381 non-null   object \n",
      " 64  GarageCond     1381 non-null   object \n",
      " 65  PavedDrive     1459 non-null   object \n",
      " 66  WoodDeckSF     1459 non-null   int64  \n",
      " 67  OpenPorchSF    1459 non-null   int64  \n",
      " 68  EnclosedPorch  1459 non-null   int64  \n",
      " 69  3SsnPorch      1459 non-null   int64  \n",
      " 70  ScreenPorch    1459 non-null   int64  \n",
      " 71  PoolArea       1459 non-null   int64  \n",
      " 72  PoolQC         3 non-null      object \n",
      " 73  Fence          290 non-null    object \n",
      " 74  MiscFeature    51 non-null     object \n",
      " 75  MiscVal        1459 non-null   int64  \n",
      " 76  MoSold         1459 non-null   int64  \n",
      " 77  YrSold         1459 non-null   int64  \n",
      " 78  SaleType       1458 non-null   object \n",
      " 79  SaleCondition  1459 non-null   object \n",
      "dtypes: float64(11), int64(26), object(43)\n",
      "memory usage: 912.0+ KB\n"
     ]
    }
   ],
   "source": [
    "test_df.info()"
   ]
  },
  {
   "cell_type": "code",
   "execution_count": 4,
   "id": "35be49ed-a251-401c-b0cd-c826b74b888f",
   "metadata": {},
   "outputs": [
    {
     "name": "stdout",
     "output_type": "stream",
     "text": [
      "              MissingCount  MissingPercent\n",
      "PoolQC                1456       99.794380\n",
      "MiscFeature           1408       96.504455\n",
      "Alley                 1352       92.666210\n",
      "Fence                 1169       80.123372\n",
      "MasVnrType             894       61.274846\n",
      "FireplaceQu            730       50.034270\n",
      "LotFrontage            227       15.558602\n",
      "GarageYrBlt             78        5.346127\n",
      "GarageCond              78        5.346127\n",
      "GarageFinish            78        5.346127\n",
      "GarageQual              78        5.346127\n",
      "GarageType              76        5.209047\n",
      "BsmtCond                45        3.084304\n",
      "BsmtQual                44        3.015764\n",
      "BsmtExposure            44        3.015764\n",
      "BsmtFinType1            42        2.878684\n",
      "BsmtFinType2            42        2.878684\n",
      "MasVnrArea              15        1.028101\n",
      "MSZoning                 4        0.274160\n",
      "BsmtHalfBath             2        0.137080\n",
      "Utilities                2        0.137080\n",
      "Functional               2        0.137080\n",
      "BsmtFullBath             2        0.137080\n",
      "BsmtFinSF1               1        0.068540\n",
      "Exterior1st              1        0.068540\n",
      "TotalBsmtSF              1        0.068540\n",
      "BsmtUnfSF                1        0.068540\n",
      "BsmtFinSF2               1        0.068540\n",
      "SaleType                 1        0.068540\n",
      "KitchenQual              1        0.068540\n",
      "GarageCars               1        0.068540\n",
      "GarageArea               1        0.068540\n",
      "Exterior2nd              1        0.068540\n"
     ]
    }
   ],
   "source": [
    "missing = test_df.isnull().sum().sort_values(ascending = False)\n",
    "missing_percent = (missing/test_df.shape[0]) * 100\n",
    "missing_df = pd.DataFrame({'MissingCount': missing, 'MissingPercent': missing_percent})\n",
    "missing_df = missing_df[missing_df.MissingCount > 0]\n",
    "print(missing_df)"
   ]
  },
  {
   "cell_type": "code",
   "execution_count": 5,
   "id": "608de3d2-abab-43c7-a6dd-a93257572032",
   "metadata": {},
   "outputs": [
    {
     "data": {
      "image/png": "[encoded data removed]",
      "text/plain": [
       "<Figure size 1000x500 with 1 Axes>"
      ]
     },
     "metadata": {},
     "output_type": "display_data"
    }
   ],
   "source": [
    "plt.figure(figsize=(10, 5))\n",
    "sns.barplot(\n",
    "    x=missing_df.index,\n",
    "    y=missing_df.MissingPercent\n",
    ")\n",
    "plt.xticks(rotation=90)\n",
    "plt.ylabel('% Missing')\n",
    "plt.title('Missing Data Percentage by Feature')\n",
    "plt.tight_layout()\n",
    "plt.show()"
   ]
  },
  {
   "cell_type": "markdown",
   "id": "b39a6eda-5485-4eda-812e-322c79cfef49",
   "metadata": {},
   "source": [
    "## Filling Missing values"
   ]
  },
  {
   "cell_type": "code",
   "execution_count": 6,
   "id": "d850a38d-a0a6-4a83-a799-9ffb80bc06fa",
   "metadata": {},
   "outputs": [],
   "source": [
    "test_df['LotFrontage'] = test_df['LotFrontage'].fillna(test_df['LotFrontage'].mean())"
   ]
  },
  {
   "cell_type": "code",
   "execution_count": 7,
   "id": "f68ff0a1-439b-42c6-82bb-469d6666e9e6",
   "metadata": {},
   "outputs": [],
   "source": [
    "# Drop features with more than more than 50% missing data\n",
    "cols_to_drop = ['PoolQC', 'MiscFeature', 'Alley', 'Fence', 'MasVnrType', 'GarageYrBlt', 'MasVnrArea']\n",
    "test_df = test_df.drop(cols_to_drop, axis=1)\n",
    "\n",
    "\n",
    "# Impute categorical features where NA = most frequent value\n",
    "for col in ['FireplaceQu', 'GarageQual', 'GarageFinish', 'GarageType', \n",
    "            'GarageCond', 'BsmtFinType2', 'BsmtExposure', 'BsmtCond', \n",
    "            'BsmtQual', 'BsmtFinType1', 'Electrical', 'MSZoning']:\n",
    "    test_df[col] = test_df[col].fillna(test_df[col].mode()[0])\n",
    "\n"
   ]
  },
  {
   "cell_type": "code",
   "execution_count": 8,
   "id": "e669314e-8c13-49d6-9b87-3095f3b07599",
   "metadata": {},
   "outputs": [
    {
     "data": {
      "text/plain": [
       "Utilities       2\n",
       "Functional      2\n",
       "BsmtFullBath    2\n",
       "BsmtHalfBath    2\n",
       "BsmtFinSF1      1\n",
       "Exterior1st     1\n",
       "TotalBsmtSF     1\n",
       "Exterior2nd     1\n",
       "BsmtFinSF2      1\n",
       "KitchenQual     1\n",
       "GarageCars      1\n",
       "SaleType        1\n",
       "GarageArea      1\n",
       "BsmtUnfSF       1\n",
       "LotFrontage     0\n",
       "dtype: int64"
      ]
     },
     "execution_count": 8,
     "metadata": {},
     "output_type": "execute_result"
    }
   ],
   "source": [
    "test_df.isnull().sum().sort_values(ascending = False).head(15)"
   ]
  },
  {
   "cell_type": "code",
   "execution_count": 9,
   "id": "ea622db4-1681-400f-98d5-18c4f76f17e2",
   "metadata": {},
   "outputs": [],
   "source": [
    "# Impute with the most common or median value (you can adapt this as you wish):\n",
    "num_fill_cols = ['BsmtFullBath', 'BsmtHalfBath', 'BsmtFinSF1', 'TotalBsmtSF', \n",
    "                 'BsmtFinSF2', 'GarageCars', 'GarageArea', 'BsmtUnfSF']\n",
    "cat_fill_cols = ['Utilities', 'Functional', 'Exterior1st', 'Exterior2nd', \n",
    "                 'KitchenQual', 'SaleType']\n",
    "\n",
    "# Numeric columns: fill with median\n",
    "for col in num_fill_cols:\n",
    "    test_df[col] = test_df[col].fillna(test_df[col].median())\n",
    "\n",
    "# Categorical columns: fill with most frequent (mode)\n",
    "for col in cat_fill_cols:\n",
    "    test_df[col] = test_df[col].fillna(test_df[col].mode()[0])\n"
   ]
  },
  {
   "cell_type": "code",
   "execution_count": 10,
   "id": "26288502-4359-4e30-9b87-24b4e94103a6",
   "metadata": {},
   "outputs": [
    {
     "data": {
      "text/plain": [
       "Id               0\n",
       "MSSubClass       0\n",
       "MSZoning         0\n",
       "LotFrontage      0\n",
       "LotArea          0\n",
       "                ..\n",
       "MiscVal          0\n",
       "MoSold           0\n",
       "YrSold           0\n",
       "SaleType         0\n",
       "SaleCondition    0\n",
       "Length: 73, dtype: int64"
      ]
     },
     "execution_count": 10,
     "metadata": {},
     "output_type": "execute_result"
    }
   ],
   "source": [
    "test_df.isnull().sum().sort_values(ascending = False)"
   ]
  },
  {
   "cell_type": "code",
   "execution_count": 11,
   "id": "54a04aa9-6579-4374-8d3f-a7176d9f339d",
   "metadata": {},
   "outputs": [
    {
     "data": {
      "text/plain": [
       "Id               0\n",
       "MSSubClass       0\n",
       "MSZoning         0\n",
       "LotFrontage      0\n",
       "LotArea          0\n",
       "                ..\n",
       "MiscVal          0\n",
       "MoSold           0\n",
       "YrSold           0\n",
       "SaleType         0\n",
       "SaleCondition    0\n",
       "Length: 73, dtype: int64"
      ]
     },
     "execution_count": 11,
     "metadata": {},
     "output_type": "execute_result"
    }
   ],
   "source": [
    "test_df.isnull().sum().sort_values(ascending = False)"
   ]
  },
  {
   "cell_type": "code",
   "execution_count": 12,
   "id": "b46a662e-1799-4fd7-a511-172cce04d29b",
   "metadata": {},
   "outputs": [
    {
     "data": {
      "text/plain": [
       "(1459, 73)"
      ]
     },
     "execution_count": 12,
     "metadata": {},
     "output_type": "execute_result"
    }
   ],
   "source": [
    "test_df.shape"
   ]
  },
  {
   "cell_type": "code",
   "execution_count": 15,
   "id": "8bab93ff-4a28-4aa0-bdf9-fd88f59384f4",
   "metadata": {},
   "outputs": [],
   "source": [
    "test_df.to_csv('test_df_modified.csv',index=False)"
   ]
  }
 ],
 "metadata": {
  "kernelspec": {
   "display_name": "Python 3 (ipykernel)",
   "language": "python",
   "name": "python3"
  },
  "language_info": {
   "codemirror_mode": {
    "name": "ipython",
    "version": 3
   },
   "file_extension": ".py",
   "mimetype": "text/x-python",
   "name": "python",
   "nbconvert_exporter": "python",
   "pygments_lexer": "ipython3",
   "version": "3.12.0"
  }
 },
 "nbformat": 4,
 "nbformat_minor": 5
}
